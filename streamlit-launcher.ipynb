{
 "cells": [
  {
   "cell_type": "code",
   "execution_count": 1,
   "metadata": {},
   "outputs": [],
   "source": [
    "import novopy\n",
    "import time\n",
    "time.sleep(1)"
   ]
  },
  {
   "cell_type": "code",
   "execution_count": 2,
   "metadata": {},
   "outputs": [],
   "source": [
    "import subprocess as sp\n",
    "import io\n",
    "from IPython.display import Javascript\n",
    "novopy.require('streamlit')\n",
    "\n",
    "port = 8502\n",
    "\n",
    "p = sp.Popen(f'streamlit run main.py --server.enableXsrfProtection=false --server.enableWebsocketCompression=false --server.enableCORS=false --server.port {port} &', shell=True, stdout=sp.PIPE, stderr=sp.PIPE)\n",
    "time.sleep(5)"
   ]
  },
  {
   "cell_type": "code",
   "execution_count": 3,
   "metadata": {},
   "outputs": [],
   "source": [
    "# Loop over output from streamlit to find running port\n",
    "for line in io.TextIOWrapper(p.stdout, encoding=\"utf-8\"):\n",
    "    if line[-5:-3] == '85':\n",
    "        port = line[-5:-1]\n",
    "        break"
   ]
  },
  {
   "cell_type": "code",
   "execution_count": 4,
   "metadata": {},
   "outputs": [
    {
     "data": {
      "application/javascript": [
       "if (window.location.href.includes(\"voila\")) {window.location.replace(\"https://datalab.corp.novocorp.net/user-redirect/proxy/8502/\");}"
      ],
      "text/plain": [
       "<IPython.core.display.Javascript object>"
      ]
     },
     "metadata": {},
     "output_type": "display_data"
    }
   ],
   "source": [
    "url = f\"https://datalab.corp.novocorp.net/user-redirect/proxy/{port}/\"\n",
    "\n",
    "# Redirect to server if this notebook is launched in Voila\n",
    "def redirect_url(url):\n",
    "    display(Javascript('if (window.location.href.includes(\"voila\")) {window.location.replace(\"%s\");}' % url))\n",
    "\n",
    "redirect_url(url)"
   ]
  },
  {
   "cell_type": "code",
   "execution_count": 5,
   "metadata": {},
   "outputs": [
    {
     "data": {
      "text/plain": [
       "'--server.enableXsrfProtection=false --server.enableWebsocketCompression=false'"
      ]
     },
     "execution_count": 5,
     "metadata": {},
     "output_type": "execute_result"
    }
   ],
   "source": [
    "'''--server.enableXsrfProtection=false --server.enableWebsocketCompression=false'''"
   ]
  },
  {
   "cell_type": "code",
   "execution_count": null,
   "metadata": {},
   "outputs": [],
   "source": []
  }
 ],
 "metadata": {
  "kernelspec": {
   "display_name": "Python 3 (ipykernel)",
   "language": "python",
   "name": "python3"
  },
  "language_info": {
   "codemirror_mode": {
    "name": "ipython",
    "version": 3
   },
   "file_extension": ".py",
   "mimetype": "text/x-python",
   "name": "python",
   "nbconvert_exporter": "python",
   "pygments_lexer": "ipython3",
   "version": "3.9.13"
  },
  "widgets": {
   "application/vnd.jupyter.widget-state+json": {
    "state": {},
    "version_major": 2,
    "version_minor": 0
   }
  }
 },
 "nbformat": 4,
 "nbformat_minor": 4
}
