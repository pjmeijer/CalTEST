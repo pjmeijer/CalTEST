{
 "cells": [
  {
   "cell_type": "code",
   "execution_count": null,
   "id": "89eeb506-b000-4eab-a8cf-3591712f1638",
   "metadata": {},
   "outputs": [],
   "source": [
    "import pymongo\n",
    "myclient = pymongo.MongoClient(\"mongodb://fsdkma018:27017/\")\n",
    "print(\"MongoDB Databases: \", myclient.list_database_names())"
   ]
  },
  {
   "cell_type": "code",
   "execution_count": null,
   "id": "09944b4f-a204-4f4f-b6d6-6740a5ccf382",
   "metadata": {},
   "outputs": [],
   "source": [
    "print(myclient[\"STGA_SciWorm\"].list_collection_names())"
   ]
  },
  {
   "cell_type": "code",
   "execution_count": null,
   "id": "3a7ce1b2-bc38-488f-9ebe-0c26f0a315ff",
   "metadata": {},
   "outputs": [],
   "source": [
    "use RBACalApp"
   ]
  },
  {
   "cell_type": "code",
   "execution_count": null,
   "id": "779dd931-886e-4b2b-9c7a-192ecb763c94",
   "metadata": {},
   "outputs": [],
   "source": [
    "use RBA"
   ]
  },
  {
   "cell_type": "code",
   "execution_count": null,
   "id": "cdb7f483-65e1-45e0-870a-19095c68c596",
   "metadata": {},
   "outputs": [],
   "source": [
    "rbaDB = myclient[\"rbaDB\"]"
   ]
  },
  {
   "cell_type": "code",
   "execution_count": null,
   "id": "501aa5ca-2232-4ea4-a254-d64800f635a5",
   "metadata": {},
   "outputs": [],
   "source": [
    "print(\"MongoDB Databases: \", myclient.list_database_names())"
   ]
  },
  {
   "cell_type": "code",
   "execution_count": null,
   "id": "79227aed-9e16-4ad2-a341-9f5498b3e1f7",
   "metadata": {},
   "outputs": [],
   "source": [
    "rbaDB.createCollection(\"CalQC\")"
   ]
  },
  {
   "cell_type": "code",
   "execution_count": null,
   "id": "4100f596-07a8-4388-b126-82f63fa5984d",
   "metadata": {},
   "outputs": [],
   "source": [
    "import novopy.services.file_shares as file_shares"
   ]
  },
  {
   "cell_type": "code",
   "execution_count": null,
   "id": "78e3d61c-1142-4368-b6aa-19fa16651df7",
   "metadata": {},
   "outputs": [],
   "source": [
    "help(novopy.services.file_shares)"
   ]
  },
  {
   "cell_type": "code",
   "execution_count": null,
   "id": "6376286e-7285-43bd-a2ac-c87cd5410e9d",
   "metadata": {},
   "outputs": [],
   "source": [
    "import novopy\n",
    "help(novopy.services.file_shares)"
   ]
  },
  {
   "cell_type": "code",
   "execution_count": null,
   "id": "0dee6858-9fea-4dbe-bdee-1d2a76b5c75a",
   "metadata": {},
   "outputs": [],
   "source": [
    "remote_dir = 'Instruments/CalibratorApp/DataForTECANFluent/'\n",
    "client = file_shares.SC19Client(share='dept0244')\n",
    "print('client.isdir(remote_dir)' + client.isdir(remote_dir))"
   ]
  },
  {
   "cell_type": "code",
   "execution_count": 8,
   "id": "58816aa4-c2c9-4667-88c5-188a591e2f3d",
   "metadata": {},
   "outputs": [],
   "source": [
    "import novopy.services.utils as utils     # a module which allows access to \n",
    "\n",
    "utils.validate_renew_kerberos_ticket() "
   ]
  },
  {
   "cell_type": "code",
   "execution_count": null,
   "id": "81d568a6-b515-4089-90d0-3492f0513c27",
   "metadata": {},
   "outputs": [],
   "source": []
  }
 ],
 "metadata": {
  "kernelspec": {
   "display_name": "Python 3 (ipykernel)",
   "language": "python",
   "name": "python3"
  },
  "language_info": {
   "codemirror_mode": {
    "name": "ipython",
    "version": 3
   },
   "file_extension": ".py",
   "mimetype": "text/x-python",
   "name": "python",
   "nbconvert_exporter": "python",
   "pygments_lexer": "ipython3",
   "version": "3.9.13"
  }
 },
 "nbformat": 4,
 "nbformat_minor": 5
}
